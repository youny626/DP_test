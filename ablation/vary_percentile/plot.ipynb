{
 "cells": [
  {
   "cell_type": "code",
   "execution_count": 45,
   "metadata": {
    "collapsed": false,
    "pycharm": {
     "name": "#%%\n"
    }
   },
   "outputs": [],
   "source": [
    "# import pandas as pd\n",
    "# import numpy as np\n",
    "\n",
    "# percentiles = [0, 25, 50]\n",
    "\n",
    "# data = []\n",
    "# for percentile in percentiles:\n",
    "#     with open(f\"./percentile_{percentile}_eps.log\") as f:\n",
    "#         lines = f.readlines()\n",
    "#         for line in lines:\n",
    "#             eps_res = [percentile]\n",
    "#             split = line.split(\", \")\n",
    "#             for eps in split:\n",
    "#                 if \"None\" in eps:\n",
    "#                     eps_res.append(np.nan)\n",
    "#                 else:\n",
    "#                     eps_res.append(float(eps))\n",
    "#             data.append(eps_res)\n",
    "\n",
    "# df = pd.DataFrame(data=data, columns=[\"percentile\", \"Q1\", \"Q2\", \"Q3\", \"Q4\", \"Q5\"])\n",
    "# df"
   ]
  },
  {
   "cell_type": "code",
   "execution_count": 46,
   "metadata": {
    "collapsed": false,
    "pycharm": {
     "name": "#%%\n"
    }
   },
   "outputs": [],
   "source": [
    "# df = df.melt(id_vars=\"percentile\", var_name=\"query\", value_name=\"epsilon\")\n",
    "# df"
   ]
  },
  {
   "cell_type": "code",
   "execution_count": 47,
   "metadata": {
    "collapsed": false,
    "pycharm": {
     "name": "#%%\n"
    }
   },
   "outputs": [],
   "source": [
    "# import seaborn as sns\n",
    "# import matplotlib.pyplot as plt\n",
    "\n",
    "# # plt.rcParams['figure.dpi'] = 300\n",
    "# sns.set_theme(style=\"ticks\", font=\"Times New Roman\", font_scale=1.6)\n",
    "# plt.rcParams[\"font.weight\"] = \"bold\"\n",
    "# plt.rcParams[\"axes.labelweight\"] = \"bold\""
   ]
  },
  {
   "cell_type": "code",
   "execution_count": 48,
   "metadata": {
    "collapsed": false,
    "pycharm": {
     "name": "#%%\n"
    }
   },
   "outputs": [],
   "source": [
    "# plt.rcParams[\"figure.figsize\"] = [16, 3]\n",
    "\n",
    "# g = sns.swarmplot(data=df, x=\"query\", y=\"epsilon\", hue=\"percentile\", dodge=True, size=8)\n",
    "# _ = g.set(xlabel=None, ylabel=\"Epsilon\")\n",
    "# _ = g.set_yticks([i for i in range(0, 11)])\n",
    "\n",
    "# cords = [0.5, 1.5, 2.5, 3.5, 4.5]\n",
    "# for x in cords:\n",
    "#     plt.axvline(x=x, color=\"black\", alpha=0.2, linewidth=1)\n",
    "\n",
    "# plt.legend(fontsize='x-small', title_fontsize='x-small')\n",
    "# g.legend_.set_title(\"Percentile\")\n",
    "# plt.tight_layout()\n",
    "# plt.savefig(\"figures/vary_percentile.pdf\", bbox_inches = 'tight', pad_inches = 0.05)\n",
    "# plt.show()\n",
    "# plt.close()"
   ]
  },
  {
   "cell_type": "code",
   "execution_count": 49,
   "metadata": {
    "ExecuteTime": {
     "end_time": "2024-02-28T07:41:12.271754Z",
     "start_time": "2024-02-28T07:41:12.240025Z"
    },
    "collapsed": false,
    "pycharm": {
     "name": "#%%\n"
    }
   },
   "outputs": [
    {
     "data": {
      "text/html": [
       "<div>\n",
       "<style scoped>\n",
       "    .dataframe tbody tr th:only-of-type {\n",
       "        vertical-align: middle;\n",
       "    }\n",
       "\n",
       "    .dataframe tbody tr th {\n",
       "        vertical-align: top;\n",
       "    }\n",
       "\n",
       "    .dataframe thead th {\n",
       "        text-align: right;\n",
       "    }\n",
       "</style>\n",
       "<table border=\"1\" class=\"dataframe\">\n",
       "  <thead>\n",
       "    <tr style=\"text-align: right;\">\n",
       "      <th></th>\n",
       "      <th>mech</th>\n",
       "      <th>percentile</th>\n",
       "      <th>Q1</th>\n",
       "      <th>Q2</th>\n",
       "      <th>Q3</th>\n",
       "      <th>Q4</th>\n",
       "      <th>Q5</th>\n",
       "    </tr>\n",
       "  </thead>\n",
       "  <tbody>\n",
       "    <tr>\n",
       "      <th>0</th>\n",
       "      <td>laplace</td>\n",
       "      <td>5</td>\n",
       "      <td>0.06</td>\n",
       "      <td>0.1</td>\n",
       "      <td>0.04</td>\n",
       "      <td>0.07</td>\n",
       "      <td>0.02</td>\n",
       "    </tr>\n",
       "    <tr>\n",
       "      <th>1</th>\n",
       "      <td>laplace</td>\n",
       "      <td>5</td>\n",
       "      <td>0.08</td>\n",
       "      <td>0.1</td>\n",
       "      <td>0.10</td>\n",
       "      <td>0.06</td>\n",
       "      <td>0.07</td>\n",
       "    </tr>\n",
       "    <tr>\n",
       "      <th>2</th>\n",
       "      <td>laplace</td>\n",
       "      <td>5</td>\n",
       "      <td>0.09</td>\n",
       "      <td>0.1</td>\n",
       "      <td>0.07</td>\n",
       "      <td>0.05</td>\n",
       "      <td>0.08</td>\n",
       "    </tr>\n",
       "    <tr>\n",
       "      <th>3</th>\n",
       "      <td>laplace</td>\n",
       "      <td>5</td>\n",
       "      <td>0.09</td>\n",
       "      <td>0.1</td>\n",
       "      <td>0.10</td>\n",
       "      <td>0.04</td>\n",
       "      <td>0.09</td>\n",
       "    </tr>\n",
       "    <tr>\n",
       "      <th>4</th>\n",
       "      <td>laplace</td>\n",
       "      <td>5</td>\n",
       "      <td>0.08</td>\n",
       "      <td>0.2</td>\n",
       "      <td>0.08</td>\n",
       "      <td>0.05</td>\n",
       "      <td>0.07</td>\n",
       "    </tr>\n",
       "    <tr>\n",
       "      <th>...</th>\n",
       "      <td>...</td>\n",
       "      <td>...</td>\n",
       "      <td>...</td>\n",
       "      <td>...</td>\n",
       "      <td>...</td>\n",
       "      <td>...</td>\n",
       "      <td>...</td>\n",
       "    </tr>\n",
       "    <tr>\n",
       "      <th>495</th>\n",
       "      <td>gaussian</td>\n",
       "      <td>95</td>\n",
       "      <td>7.00</td>\n",
       "      <td>10.0</td>\n",
       "      <td>3.00</td>\n",
       "      <td>10.00</td>\n",
       "      <td>10.00</td>\n",
       "    </tr>\n",
       "    <tr>\n",
       "      <th>496</th>\n",
       "      <td>gaussian</td>\n",
       "      <td>95</td>\n",
       "      <td>9.00</td>\n",
       "      <td>10.0</td>\n",
       "      <td>8.00</td>\n",
       "      <td>7.00</td>\n",
       "      <td>10.00</td>\n",
       "    </tr>\n",
       "    <tr>\n",
       "      <th>497</th>\n",
       "      <td>gaussian</td>\n",
       "      <td>95</td>\n",
       "      <td>4.00</td>\n",
       "      <td>10.0</td>\n",
       "      <td>9.00</td>\n",
       "      <td>10.00</td>\n",
       "      <td>10.00</td>\n",
       "    </tr>\n",
       "    <tr>\n",
       "      <th>498</th>\n",
       "      <td>gaussian</td>\n",
       "      <td>95</td>\n",
       "      <td>7.00</td>\n",
       "      <td>10.0</td>\n",
       "      <td>4.00</td>\n",
       "      <td>10.00</td>\n",
       "      <td>10.00</td>\n",
       "    </tr>\n",
       "    <tr>\n",
       "      <th>499</th>\n",
       "      <td>gaussian</td>\n",
       "      <td>95</td>\n",
       "      <td>3.00</td>\n",
       "      <td>10.0</td>\n",
       "      <td>5.00</td>\n",
       "      <td>10.00</td>\n",
       "      <td>10.00</td>\n",
       "    </tr>\n",
       "  </tbody>\n",
       "</table>\n",
       "<p>500 rows × 7 columns</p>\n",
       "</div>"
      ],
      "text/plain": [
       "         mech  percentile    Q1    Q2    Q3     Q4     Q5\n",
       "0     laplace           5  0.06   0.1  0.04   0.07   0.02\n",
       "1     laplace           5  0.08   0.1  0.10   0.06   0.07\n",
       "2     laplace           5  0.09   0.1  0.07   0.05   0.08\n",
       "3     laplace           5  0.09   0.1  0.10   0.04   0.09\n",
       "4     laplace           5  0.08   0.2  0.08   0.05   0.07\n",
       "..        ...         ...   ...   ...   ...    ...    ...\n",
       "495  gaussian          95  7.00  10.0  3.00  10.00  10.00\n",
       "496  gaussian          95  9.00  10.0  8.00   7.00  10.00\n",
       "497  gaussian          95  4.00  10.0  9.00  10.00  10.00\n",
       "498  gaussian          95  7.00  10.0  4.00  10.00  10.00\n",
       "499  gaussian          95  3.00  10.0  5.00  10.00  10.00\n",
       "\n",
       "[500 rows x 7 columns]"
      ]
     },
     "execution_count": 49,
     "metadata": {},
     "output_type": "execute_result"
    }
   ],
   "source": [
    "import pandas as pd\n",
    "import numpy as np\n",
    "\n",
    "percentiles = [5, 25, 50, 75, 95]\n",
    "\n",
    "data = []\n",
    "for mech in  [\"laplace\", \"gaussian\"]:\n",
    "    for percentile in percentiles:\n",
    "        with open(f\"result/{mech}_p_{percentile}_eps.log\") as f:\n",
    "            lines = f.readlines()\n",
    "            for line in lines:\n",
    "                eps_res = [mech, percentile]\n",
    "                split = line.split(\", \")\n",
    "                for eps in split:\n",
    "                    if \"None\" in eps:\n",
    "                        eps_res.append(np.nan)\n",
    "                    else:\n",
    "                        eps_res.append(float(eps))\n",
    "                data.append(eps_res)\n",
    "\n",
    "df = pd.DataFrame(data=data, columns=[\"mech\", \"percentile\", \"Q1\", \"Q2\", \"Q3\", \"Q4\", \"Q5\"])\n",
    "df"
   ]
  },
  {
   "cell_type": "code",
   "execution_count": 50,
   "metadata": {
    "ExecuteTime": {
     "end_time": "2024-02-28T07:41:13.096525Z",
     "start_time": "2024-02-28T07:41:13.093327Z"
    },
    "collapsed": false
   },
   "outputs": [],
   "source": [
    "import seaborn as sns\n",
    "import matplotlib.pyplot as plt\n",
    "\n",
    "# plt.rcParams['figure.dpi'] = 300\n",
    "sns.set_theme(style=\"ticks\", font=\"Times New Roman\", font_scale=1.8)\n",
    "plt.rcParams[\"font.weight\"] = \"bold\"\n",
    "plt.rcParams[\"axes.labelweight\"] = \"bold\""
   ]
  },
  {
   "cell_type": "code",
   "execution_count": 51,
   "metadata": {
    "ExecuteTime": {
     "end_time": "2024-02-28T07:41:13.652565Z",
     "start_time": "2024-02-28T07:41:13.642807Z"
    },
    "collapsed": false
   },
   "outputs": [
    {
     "data": {
      "text/html": [
       "<div>\n",
       "<style scoped>\n",
       "    .dataframe tbody tr th:only-of-type {\n",
       "        vertical-align: middle;\n",
       "    }\n",
       "\n",
       "    .dataframe tbody tr th {\n",
       "        vertical-align: top;\n",
       "    }\n",
       "\n",
       "    .dataframe thead th {\n",
       "        text-align: right;\n",
       "    }\n",
       "</style>\n",
       "<table border=\"1\" class=\"dataframe\">\n",
       "  <thead>\n",
       "    <tr style=\"text-align: right;\">\n",
       "      <th></th>\n",
       "      <th>mech</th>\n",
       "      <th>percentile</th>\n",
       "      <th>query</th>\n",
       "      <th>epsilon</th>\n",
       "    </tr>\n",
       "  </thead>\n",
       "  <tbody>\n",
       "    <tr>\n",
       "      <th>0</th>\n",
       "      <td>laplace</td>\n",
       "      <td>5</td>\n",
       "      <td>Q1</td>\n",
       "      <td>0.06</td>\n",
       "    </tr>\n",
       "    <tr>\n",
       "      <th>1</th>\n",
       "      <td>laplace</td>\n",
       "      <td>5</td>\n",
       "      <td>Q1</td>\n",
       "      <td>0.08</td>\n",
       "    </tr>\n",
       "    <tr>\n",
       "      <th>2</th>\n",
       "      <td>laplace</td>\n",
       "      <td>5</td>\n",
       "      <td>Q1</td>\n",
       "      <td>0.09</td>\n",
       "    </tr>\n",
       "    <tr>\n",
       "      <th>3</th>\n",
       "      <td>laplace</td>\n",
       "      <td>5</td>\n",
       "      <td>Q1</td>\n",
       "      <td>0.09</td>\n",
       "    </tr>\n",
       "    <tr>\n",
       "      <th>4</th>\n",
       "      <td>laplace</td>\n",
       "      <td>5</td>\n",
       "      <td>Q1</td>\n",
       "      <td>0.08</td>\n",
       "    </tr>\n",
       "    <tr>\n",
       "      <th>...</th>\n",
       "      <td>...</td>\n",
       "      <td>...</td>\n",
       "      <td>...</td>\n",
       "      <td>...</td>\n",
       "    </tr>\n",
       "    <tr>\n",
       "      <th>2495</th>\n",
       "      <td>gaussian</td>\n",
       "      <td>95</td>\n",
       "      <td>Q5</td>\n",
       "      <td>10.00</td>\n",
       "    </tr>\n",
       "    <tr>\n",
       "      <th>2496</th>\n",
       "      <td>gaussian</td>\n",
       "      <td>95</td>\n",
       "      <td>Q5</td>\n",
       "      <td>10.00</td>\n",
       "    </tr>\n",
       "    <tr>\n",
       "      <th>2497</th>\n",
       "      <td>gaussian</td>\n",
       "      <td>95</td>\n",
       "      <td>Q5</td>\n",
       "      <td>10.00</td>\n",
       "    </tr>\n",
       "    <tr>\n",
       "      <th>2498</th>\n",
       "      <td>gaussian</td>\n",
       "      <td>95</td>\n",
       "      <td>Q5</td>\n",
       "      <td>10.00</td>\n",
       "    </tr>\n",
       "    <tr>\n",
       "      <th>2499</th>\n",
       "      <td>gaussian</td>\n",
       "      <td>95</td>\n",
       "      <td>Q5</td>\n",
       "      <td>10.00</td>\n",
       "    </tr>\n",
       "  </tbody>\n",
       "</table>\n",
       "<p>2500 rows × 4 columns</p>\n",
       "</div>"
      ],
      "text/plain": [
       "          mech  percentile query  epsilon\n",
       "0      laplace           5    Q1     0.06\n",
       "1      laplace           5    Q1     0.08\n",
       "2      laplace           5    Q1     0.09\n",
       "3      laplace           5    Q1     0.09\n",
       "4      laplace           5    Q1     0.08\n",
       "...        ...         ...   ...      ...\n",
       "2495  gaussian          95    Q5    10.00\n",
       "2496  gaussian          95    Q5    10.00\n",
       "2497  gaussian          95    Q5    10.00\n",
       "2498  gaussian          95    Q5    10.00\n",
       "2499  gaussian          95    Q5    10.00\n",
       "\n",
       "[2500 rows x 4 columns]"
      ]
     },
     "execution_count": 51,
     "metadata": {},
     "output_type": "execute_result"
    }
   ],
   "source": [
    "df = df.melt(id_vars=[\"mech\", \"percentile\"], var_name=\"query\", value_name=\"epsilon\")\n",
    "df"
   ]
  },
  {
   "cell_type": "code",
   "execution_count": 52,
   "metadata": {
    "ExecuteTime": {
     "end_time": "2024-02-28T07:41:15.387509Z",
     "start_time": "2024-02-28T07:41:14.840503Z"
    },
    "collapsed": false
   },
   "outputs": [
    {
     "data": {
      "image/png": "[encoded data removed]",
      "text/plain": [
       "<Figure size 1600x300 with 5 Axes>"
      ]
     },
     "metadata": {},
     "output_type": "display_data"
    }
   ],
   "source": [
    "# plt.rcParams[\"figure.figsize\"] = [16, 3]\n",
    "fig, axes = plt.subplots(1, 5, figsize=(16,3), constrained_layout=True)\n",
    "\n",
    "for i in range(5):\n",
    "    data = df[(df[\"query\"] == \"Q\" + str(i+1)) & (df[\"mech\"] == \"laplace\")]\n",
    "    g = sns.boxplot(data=data, x=\"percentile\", y=\"epsilon\", hue=\"percentile\", ax=axes[i], legend=False, palette=\"pastel\")\n",
    "    if i == 0:\n",
    "        g.set(ylabel=\"Epsilon\")\n",
    "    else:\n",
    "        g.set(ylabel=None)\n",
    "    if i == 2:\n",
    "        g.set(xlabel=\"Percentage\")\n",
    "    else:\n",
    "        g.set(xlabel=None)\n",
    "    \n",
    "    axes[i].set_title(\"Q\" + str(i+1), fontweight=\"bold\")\n",
    "    # g.set(xlabel=\"Q\" + str(i+1))\n",
    "    # _ = g.set(xlabel=None, ylabel=\"Epsilon\")\n",
    "    # _ = g.set_yticks([i for i in range(0, 11)])\n",
    "\n",
    "# plt.legend(fontsize='x-small', title_fontsize='x-small')\n",
    "# g.legend_.set_title(\"Percentile\")\n",
    "# plt.subplots_adjust(wspace=0, hspace=0)\n",
    "# plt.tight_layout()\n",
    "plt.savefig(\"figures/vary_percentage_laplace.pdf\", bbox_inches = 'tight')\n",
    "plt.show()\n",
    "plt.close()"
   ]
  },
  {
   "cell_type": "code",
   "execution_count": 53,
   "metadata": {},
   "outputs": [
    {
     "data": {
      "image/png": "[encoded data removed]",
      "text/plain": [
       "<Figure size 1600x300 with 5 Axes>"
      ]
     },
     "metadata": {},
     "output_type": "display_data"
    }
   ],
   "source": [
    "# plt.rcParams[\"figure.figsize\"] = [16, 3]\n",
    "fig, axes = plt.subplots(1, 5, figsize=(16,3), constrained_layout=True)\n",
    "\n",
    "for i in range(5):\n",
    "    data = df[(df[\"query\"] == \"Q\" + str(i+1)) & (df[\"mech\"] == \"gaussian\")]\n",
    "    g = sns.boxplot(data=data, x=\"percentile\", y=\"epsilon\", hue=\"percentile\", ax=axes[i], legend=False, palette=\"pastel\")\n",
    "    if i == 0:\n",
    "        g.set(ylabel=\"Epsilon\")\n",
    "    else:\n",
    "        g.set(ylabel=None)\n",
    "    if i == 2:\n",
    "        g.set(xlabel=\"Percentage\")\n",
    "    else:\n",
    "        g.set(xlabel=None)\n",
    "    \n",
    "    axes[i].set_title(\"Q\" + str(i+1), fontweight=\"bold\")\n",
    "    # g.set(xlabel=\"Q\" + str(i+1))\n",
    "    # _ = g.set(xlabel=None, ylabel=\"Epsilon\")\n",
    "    # _ = g.set_yticks([i for i in range(0, 11)])\n",
    "\n",
    "# plt.legend(fontsize='x-small', title_fontsize='x-small')\n",
    "# g.legend_.set_title(\"Percentile\")\n",
    "# plt.subplots_adjust(wspace=0, hspace=0)\n",
    "# plt.tight_layout()\n",
    "plt.savefig(\"figures/vary_percentage_gaussian.pdf\", bbox_inches = 'tight')\n",
    "plt.show()\n",
    "plt.close()"
   ]
  },
  {
   "cell_type": "code",
   "execution_count": 58,
   "metadata": {
    "ExecuteTime": {
     "end_time": "2024-02-29T02:16:51.815357Z",
     "start_time": "2024-02-29T02:16:51.813062Z"
    },
    "collapsed": false
   },
   "outputs": [],
   "source": [
    "q5 = df[(df[\"query\"] == \"Q4\") & (df[\"mech\"] == \"gaussian\")]"
   ]
  },
  {
   "cell_type": "code",
   "execution_count": 59,
   "metadata": {
    "ExecuteTime": {
     "end_time": "2024-02-29T23:10:54.039533Z",
     "start_time": "2024-02-29T23:10:53.805458Z"
    },
    "collapsed": false
   },
   "outputs": [
    {
     "data": {
      "image/png": "[encoded data removed]",
      "text/plain": [
       "<Figure size 800x300 with 1 Axes>"
      ]
     },
     "metadata": {},
     "output_type": "display_data"
    }
   ],
   "source": [
    "sns.set_theme(style=\"ticks\", font=\"Times New Roman\", font_scale=1.8)\n",
    "plt.rcParams[\"font.weight\"] = \"bold\"\n",
    "plt.rcParams[\"axes.labelweight\"] = \"bold\"\n",
    "\n",
    "plt.rcParams[\"figure.figsize\"] = [8, 3]\n",
    "# fig, axes = plt.subplots(1, 5, figsize=(16,3), constrained_layout=True)\n",
    "\n",
    "\n",
    "g = sns.boxplot(data=q5, x=\"percentile\", y=\"epsilon\", hue=\"percentile\", legend=False, palette=\"pastel\")\n",
    "\n",
    "g.set(ylabel=\"Epsilon\")\n",
    "\n",
    "g.set(xlabel=\"Percentage\")\n",
    "\n",
    "# plt.legend(fontsize='x-small', title_fontsize='x-small')\n",
    "# g.legend_.set_title(\"Percentile\")\n",
    "# plt.subplots_adjust(wspace=0, hspace=0)\n",
    "# plt.tight_layout()\n",
    "plt.savefig(\"figures/Q5.pdf\", bbox_inches = 'tight')\n",
    "plt.show()\n",
    "plt.close()"
   ]
  },
  {
   "cell_type": "code",
   "execution_count": null,
   "metadata": {
    "collapsed": false
   },
   "outputs": [],
   "source": []
  }
 ],
 "metadata": {
  "kernelspec": {
   "display_name": ".venv",
   "language": "python",
   "name": "python3"
  },
  "language_info": {
   "codemirror_mode": {
    "name": "ipython",
    "version": 3
   },
   "file_extension": ".py",
   "mimetype": "text/x-python",
   "name": "python",
   "nbconvert_exporter": "python",
   "pygments_lexer": "ipython3",
   "version": "3.9.6"
  }
 },
 "nbformat": 4,
 "nbformat_minor": 0
}
