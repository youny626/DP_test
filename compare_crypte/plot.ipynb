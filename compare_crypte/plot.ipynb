{
 "cells": [
  {
   "cell_type": "code",
   "execution_count": 18,
   "outputs": [],
   "source": [
    "import pandas as pd"
   ],
   "metadata": {
    "collapsed": false,
    "pycharm": {
     "name": "#%%\n"
    }
   }
  },
  {
   "cell_type": "code",
   "execution_count": 19,
   "outputs": [
    {
     "data": {
      "text/plain": "       age   race     sex income\n0       90  White  Female  <=50K\n1       82  White  Female  <=50K\n2       66  Black  Female  <=50K\n3       54  White  Female  <=50K\n4       41  White  Female  <=50K\n...    ...    ...     ...    ...\n32556   22  White    Male  <=50K\n32557   27  White  Female  <=50K\n32558   40  White    Male   >50K\n32559   58  White  Female  <=50K\n32560   22  White    Male  <=50K\n\n[32561 rows x 4 columns]",
      "text/html": "<div>\n<style scoped>\n    .dataframe tbody tr th:only-of-type {\n        vertical-align: middle;\n    }\n\n    .dataframe tbody tr th {\n        vertical-align: top;\n    }\n\n    .dataframe thead th {\n        text-align: right;\n    }\n</style>\n<table border=\"1\" class=\"dataframe\">\n  <thead>\n    <tr style=\"text-align: right;\">\n      <th></th>\n      <th>age</th>\n      <th>race</th>\n      <th>sex</th>\n      <th>income</th>\n    </tr>\n  </thead>\n  <tbody>\n    <tr>\n      <th>0</th>\n      <td>90</td>\n      <td>White</td>\n      <td>Female</td>\n      <td>&lt;=50K</td>\n    </tr>\n    <tr>\n      <th>1</th>\n      <td>82</td>\n      <td>White</td>\n      <td>Female</td>\n      <td>&lt;=50K</td>\n    </tr>\n    <tr>\n      <th>2</th>\n      <td>66</td>\n      <td>Black</td>\n      <td>Female</td>\n      <td>&lt;=50K</td>\n    </tr>\n    <tr>\n      <th>3</th>\n      <td>54</td>\n      <td>White</td>\n      <td>Female</td>\n      <td>&lt;=50K</td>\n    </tr>\n    <tr>\n      <th>4</th>\n      <td>41</td>\n      <td>White</td>\n      <td>Female</td>\n      <td>&lt;=50K</td>\n    </tr>\n    <tr>\n      <th>...</th>\n      <td>...</td>\n      <td>...</td>\n      <td>...</td>\n      <td>...</td>\n    </tr>\n    <tr>\n      <th>32556</th>\n      <td>22</td>\n      <td>White</td>\n      <td>Male</td>\n      <td>&lt;=50K</td>\n    </tr>\n    <tr>\n      <th>32557</th>\n      <td>27</td>\n      <td>White</td>\n      <td>Female</td>\n      <td>&lt;=50K</td>\n    </tr>\n    <tr>\n      <th>32558</th>\n      <td>40</td>\n      <td>White</td>\n      <td>Male</td>\n      <td>&gt;50K</td>\n    </tr>\n    <tr>\n      <th>32559</th>\n      <td>58</td>\n      <td>White</td>\n      <td>Female</td>\n      <td>&lt;=50K</td>\n    </tr>\n    <tr>\n      <th>32560</th>\n      <td>22</td>\n      <td>White</td>\n      <td>Male</td>\n      <td>&lt;=50K</td>\n    </tr>\n  </tbody>\n</table>\n<p>32561 rows × 4 columns</p>\n</div>"
     },
     "execution_count": 19,
     "metadata": {},
     "output_type": "execute_result"
    }
   ],
   "source": [
    "df = pd.read_csv(\"../adult.csv\")\n",
    "df = df[[\"age\", \"race\", \"sex\", \"income\"]]\n",
    "df"
   ],
   "metadata": {
    "collapsed": false,
    "pycharm": {
     "name": "#%%\n"
    }
   }
  },
  {
   "cell_type": "code",
   "execution_count": 20,
   "outputs": [],
   "source": [
    "df.to_csv(\"adult_age_race_sex_income.csv\", index=False)"
   ],
   "metadata": {
    "collapsed": false,
    "pycharm": {
     "name": "#%%\n"
    }
   }
  },
  {
   "cell_type": "code",
   "execution_count": 21,
   "outputs": [
    {
     "data": {
      "text/plain": "8915"
     },
     "execution_count": 21,
     "metadata": {},
     "output_type": "execute_result"
    }
   ],
   "source": [
    "len(df[df[\"age\"].between(20, 30)])"
   ],
   "metadata": {
    "collapsed": false,
    "pycharm": {
     "name": "#%%\n"
    }
   }
  },
  {
   "cell_type": "code",
   "execution_count": 22,
   "outputs": [
    {
     "data": {
      "text/plain": "White                 27816\nBlack                  3124\nAsian-Pac-Islander     1039\nAmer-Indian-Eskimo      311\nOther                   271\nName: race, dtype: int64"
     },
     "execution_count": 22,
     "metadata": {},
     "output_type": "execute_result"
    }
   ],
   "source": [
    "df[\"race\"].value_counts()"
   ],
   "metadata": {
    "collapsed": false,
    "pycharm": {
     "name": "#%%\n"
    }
   }
  },
  {
   "cell_type": "code",
   "execution_count": 23,
   "outputs": [
    {
     "data": {
      "text/plain": "1179"
     },
     "execution_count": 23,
     "metadata": {},
     "output_type": "execute_result"
    }
   ],
   "source": [
    "len(df[(df[\"sex\"] == \"Female\") & (df[\"income\"] == \">50K\")])"
   ],
   "metadata": {
    "collapsed": false,
    "pycharm": {
     "name": "#%%\n"
    }
   }
  },
  {
   "cell_type": "code",
   "execution_count": 24,
   "outputs": [],
   "source": [
    "with open(\"log_ds.txt\") as f:\n",
    "    lines = f.readlines()\n",
    "    encryption_time_list_ds = [float(x) for x in lines[0].split(\",\")]\n",
    "    upload_time_list_ds = [float(x) for x in lines[1].split(\",\")]\n",
    "    query1_time_list_ds = [float(x) for x in lines[2].split(\",\")]\n",
    "    query2_time_list_ds = [float(x) for x in lines[3].split(\",\")]\n",
    "    query3_time_list_ds = [float(x) for x in lines[4].split(\",\")]"
   ],
   "metadata": {
    "collapsed": false,
    "pycharm": {
     "name": "#%%\n"
    }
   }
  },
  {
   "cell_type": "code",
   "execution_count": 25,
   "outputs": [],
   "source": [
    "with open(\"log_no_dp.txt\") as f:\n",
    "    lines = f.readlines()\n",
    "    query1_time_list_no_dp = [float(x) for x in lines[0].split(\",\")]\n",
    "    query2_time_list_no_dp = [float(x) for x in lines[1].split(\",\")]\n",
    "    query3_time_list_no_dp = [float(x) for x in lines[2].split(\",\")]"
   ],
   "metadata": {
    "collapsed": false,
    "pycharm": {
     "name": "#%%\n"
    }
   }
  },
  {
   "cell_type": "code",
   "execution_count": 26,
   "outputs": [],
   "source": [
    "with open(\"log_dp.txt\") as f:\n",
    "    lines = f.readlines()\n",
    "    query1_time_list_dp = [float(x) for x in lines[0].split(\",\")]\n",
    "    query2_time_list_dp = [float(x) for x in lines[1].split(\",\")]\n",
    "    query3_time_list_dp = [float(x) for x in lines[2].split(\",\")]"
   ],
   "metadata": {
    "collapsed": false,
    "pycharm": {
     "name": "#%%\n"
    }
   }
  },
  {
   "cell_type": "code",
   "execution_count": 27,
   "outputs": [],
   "source": [
    "encryption_time_list_crypte = []\n",
    "upload_time_list_crypte = []\n",
    "query1_time_list_crypte = []\n",
    "query2_time_list_crypte = []\n",
    "query3_time_list_crypte = []\n",
    "for i in range(10):\n",
    "    with open(f\"crypte_log/log{i+1}.txt\") as f:\n",
    "        lines = f.readlines()\n",
    "        encryption_time_list_crypte.append(665003.4400429726)\n",
    "        upload_time_list_crypte.append(float(lines[0].split()[-2]))\n",
    "        query1_time_list_crypte.append(float(lines[1].split()[-2]))\n",
    "        query2_time_list_crypte.append(float(lines[2].split()[-2]))\n",
    "        query3_time_list_crypte.append(float(lines[3].split()[-2]))"
   ],
   "metadata": {
    "collapsed": false,
    "pycharm": {
     "name": "#%%\n"
    }
   }
  },
  {
   "cell_type": "code",
   "execution_count": 28,
   "outputs": [],
   "source": [
    "import seaborn as sns\n",
    "import matplotlib.pyplot as plt\n",
    "import numpy as np"
   ],
   "metadata": {
    "collapsed": false,
    "pycharm": {
     "name": "#%%\n"
    }
   }
  },
  {
   "cell_type": "code",
   "execution_count": 29,
   "outputs": [],
   "source": [
    "data = []\n",
    "for i in range(10):\n",
    "    data.append([\"Q1\", query1_time_list_no_dp[i], query1_time_list_dp[i], query1_time_list_ds[i], query1_time_list_crypte[i]])\n",
    "    data.append([\"Q2\", query2_time_list_no_dp[i], query2_time_list_dp[i], query2_time_list_ds[i], query2_time_list_crypte[i]])\n",
    "    data.append([\"Q3\", query3_time_list_no_dp[i], query3_time_list_dp[i], query3_time_list_ds[i], query3_time_list_crypte[i]])\n"
   ],
   "metadata": {
    "collapsed": false,
    "pycharm": {
     "name": "#%%\n"
    }
   }
  },
  {
   "cell_type": "code",
   "execution_count": 30,
   "outputs": [
    {
     "data": {
      "text/plain": "   query  Standalone w/t DP  Standalone w/ DP  Data Escrow         Crypte\n0     Q1           0.128220          0.278520     0.332548     486.651411\n1     Q2           0.177469          0.219316     0.359821      16.235351\n2     Q3           0.185183          0.172637     0.348767  103113.049622\n3     Q1           0.172396          0.207200     0.374143     525.754545\n4     Q2           0.174323          0.164619     0.403563      15.856839\n5     Q3           0.176526          0.204938     0.375085  103035.734320\n6     Q1           0.169666          0.158717     0.329933     514.326685\n7     Q2           0.129876          0.208071     0.338371      15.880371\n8     Q3           0.170346          0.201147     0.393265  102951.576287\n9     Q1           0.125356          0.204276     0.382324     523.402440\n10    Q2           0.176064          0.206432     0.382394      15.908630\n11    Q3           0.171285          0.159632     0.293374  103012.227036\n12    Q1           0.171729          0.204001     0.344495     518.684960\n13    Q2           0.173637          0.163053     0.357552      15.905777\n14    Q3           0.134341          0.204428     0.346730  103023.287476\n15    Q1           0.170395          0.219018     0.343196     512.179816\n16    Q2           0.129842          0.208543     0.338131      15.853208\n17    Q3           0.170283          0.201572     0.343554  103018.113103\n18    Q1           0.124911          0.204759     0.344161     515.083000\n19    Q2           0.199016          0.206810     0.340173      15.860984\n20    Q3           0.168871          0.159437     0.345325  103008.544496\n21    Q1           0.171636          0.202365     0.348308     526.937664\n22    Q2           0.173667          0.163840     0.335522      15.863140\n23    Q3           0.124688          0.203618     0.340319  103056.683249\n24    Q1           0.170699          0.201443     0.341142     516.896831\n25    Q2           0.138839          0.208660     0.355016      15.922952\n26    Q3           0.170583          0.219900     0.347362  103093.342603\n27    Q1           0.167218          0.158361     0.333495     493.415410\n28    Q2           0.174464          0.204968     0.352392      15.853300\n29    Q3           0.125388          0.203879     0.340831  103098.227596",
      "text/html": "<div>\n<style scoped>\n    .dataframe tbody tr th:only-of-type {\n        vertical-align: middle;\n    }\n\n    .dataframe tbody tr th {\n        vertical-align: top;\n    }\n\n    .dataframe thead th {\n        text-align: right;\n    }\n</style>\n<table border=\"1\" class=\"dataframe\">\n  <thead>\n    <tr style=\"text-align: right;\">\n      <th></th>\n      <th>query</th>\n      <th>Standalone w/t DP</th>\n      <th>Standalone w/ DP</th>\n      <th>Data Escrow</th>\n      <th>Crypte</th>\n    </tr>\n  </thead>\n  <tbody>\n    <tr>\n      <th>0</th>\n      <td>Q1</td>\n      <td>0.128220</td>\n      <td>0.278520</td>\n      <td>0.332548</td>\n      <td>486.651411</td>\n    </tr>\n    <tr>\n      <th>1</th>\n      <td>Q2</td>\n      <td>0.177469</td>\n      <td>0.219316</td>\n      <td>0.359821</td>\n      <td>16.235351</td>\n    </tr>\n    <tr>\n      <th>2</th>\n      <td>Q3</td>\n      <td>0.185183</td>\n      <td>0.172637</td>\n      <td>0.348767</td>\n      <td>103113.049622</td>\n    </tr>\n    <tr>\n      <th>3</th>\n      <td>Q1</td>\n      <td>0.172396</td>\n      <td>0.207200</td>\n      <td>0.374143</td>\n      <td>525.754545</td>\n    </tr>\n    <tr>\n      <th>4</th>\n      <td>Q2</td>\n      <td>0.174323</td>\n      <td>0.164619</td>\n      <td>0.403563</td>\n      <td>15.856839</td>\n    </tr>\n    <tr>\n      <th>5</th>\n      <td>Q3</td>\n      <td>0.176526</td>\n      <td>0.204938</td>\n      <td>0.375085</td>\n      <td>103035.734320</td>\n    </tr>\n    <tr>\n      <th>6</th>\n      <td>Q1</td>\n      <td>0.169666</td>\n      <td>0.158717</td>\n      <td>0.329933</td>\n      <td>514.326685</td>\n    </tr>\n    <tr>\n      <th>7</th>\n      <td>Q2</td>\n      <td>0.129876</td>\n      <td>0.208071</td>\n      <td>0.338371</td>\n      <td>15.880371</td>\n    </tr>\n    <tr>\n      <th>8</th>\n      <td>Q3</td>\n      <td>0.170346</td>\n      <td>0.201147</td>\n      <td>0.393265</td>\n      <td>102951.576287</td>\n    </tr>\n    <tr>\n      <th>9</th>\n      <td>Q1</td>\n      <td>0.125356</td>\n      <td>0.204276</td>\n      <td>0.382324</td>\n      <td>523.402440</td>\n    </tr>\n    <tr>\n      <th>10</th>\n      <td>Q2</td>\n      <td>0.176064</td>\n      <td>0.206432</td>\n      <td>0.382394</td>\n      <td>15.908630</td>\n    </tr>\n    <tr>\n      <th>11</th>\n      <td>Q3</td>\n      <td>0.171285</td>\n      <td>0.159632</td>\n      <td>0.293374</td>\n      <td>103012.227036</td>\n    </tr>\n    <tr>\n      <th>12</th>\n      <td>Q1</td>\n      <td>0.171729</td>\n      <td>0.204001</td>\n      <td>0.344495</td>\n      <td>518.684960</td>\n    </tr>\n    <tr>\n      <th>13</th>\n      <td>Q2</td>\n      <td>0.173637</td>\n      <td>0.163053</td>\n      <td>0.357552</td>\n      <td>15.905777</td>\n    </tr>\n    <tr>\n      <th>14</th>\n      <td>Q3</td>\n      <td>0.134341</td>\n      <td>0.204428</td>\n      <td>0.346730</td>\n      <td>103023.287476</td>\n    </tr>\n    <tr>\n      <th>15</th>\n      <td>Q1</td>\n      <td>0.170395</td>\n      <td>0.219018</td>\n      <td>0.343196</td>\n      <td>512.179816</td>\n    </tr>\n    <tr>\n      <th>16</th>\n      <td>Q2</td>\n      <td>0.129842</td>\n      <td>0.208543</td>\n      <td>0.338131</td>\n      <td>15.853208</td>\n    </tr>\n    <tr>\n      <th>17</th>\n      <td>Q3</td>\n      <td>0.170283</td>\n      <td>0.201572</td>\n      <td>0.343554</td>\n      <td>103018.113103</td>\n    </tr>\n    <tr>\n      <th>18</th>\n      <td>Q1</td>\n      <td>0.124911</td>\n      <td>0.204759</td>\n      <td>0.344161</td>\n      <td>515.083000</td>\n    </tr>\n    <tr>\n      <th>19</th>\n      <td>Q2</td>\n      <td>0.199016</td>\n      <td>0.206810</td>\n      <td>0.340173</td>\n      <td>15.860984</td>\n    </tr>\n    <tr>\n      <th>20</th>\n      <td>Q3</td>\n      <td>0.168871</td>\n      <td>0.159437</td>\n      <td>0.345325</td>\n      <td>103008.544496</td>\n    </tr>\n    <tr>\n      <th>21</th>\n      <td>Q1</td>\n      <td>0.171636</td>\n      <td>0.202365</td>\n      <td>0.348308</td>\n      <td>526.937664</td>\n    </tr>\n    <tr>\n      <th>22</th>\n      <td>Q2</td>\n      <td>0.173667</td>\n      <td>0.163840</td>\n      <td>0.335522</td>\n      <td>15.863140</td>\n    </tr>\n    <tr>\n      <th>23</th>\n      <td>Q3</td>\n      <td>0.124688</td>\n      <td>0.203618</td>\n      <td>0.340319</td>\n      <td>103056.683249</td>\n    </tr>\n    <tr>\n      <th>24</th>\n      <td>Q1</td>\n      <td>0.170699</td>\n      <td>0.201443</td>\n      <td>0.341142</td>\n      <td>516.896831</td>\n    </tr>\n    <tr>\n      <th>25</th>\n      <td>Q2</td>\n      <td>0.138839</td>\n      <td>0.208660</td>\n      <td>0.355016</td>\n      <td>15.922952</td>\n    </tr>\n    <tr>\n      <th>26</th>\n      <td>Q3</td>\n      <td>0.170583</td>\n      <td>0.219900</td>\n      <td>0.347362</td>\n      <td>103093.342603</td>\n    </tr>\n    <tr>\n      <th>27</th>\n      <td>Q1</td>\n      <td>0.167218</td>\n      <td>0.158361</td>\n      <td>0.333495</td>\n      <td>493.415410</td>\n    </tr>\n    <tr>\n      <th>28</th>\n      <td>Q2</td>\n      <td>0.174464</td>\n      <td>0.204968</td>\n      <td>0.352392</td>\n      <td>15.853300</td>\n    </tr>\n    <tr>\n      <th>29</th>\n      <td>Q3</td>\n      <td>0.125388</td>\n      <td>0.203879</td>\n      <td>0.340831</td>\n      <td>103098.227596</td>\n    </tr>\n  </tbody>\n</table>\n</div>"
     },
     "execution_count": 30,
     "metadata": {},
     "output_type": "execute_result"
    }
   ],
   "source": [
    "labels = [\"Standalone w/t DP\", \"Standalone w/ DP\", \"Data Escrow\", \"Crypte\"]\n",
    "df = pd.DataFrame(data=data, columns=[\"query\"] + labels)\n",
    "df"
   ],
   "metadata": {
    "collapsed": false,
    "pycharm": {
     "name": "#%%\n"
    }
   }
  },
  {
   "cell_type": "code",
   "execution_count": 31,
   "outputs": [
    {
     "data": {
      "text/plain": "    query           variable           time\n0      Q1  Standalone w/t DP       0.128220\n1      Q2  Standalone w/t DP       0.177469\n2      Q3  Standalone w/t DP       0.185183\n3      Q1  Standalone w/t DP       0.172396\n4      Q2  Standalone w/t DP       0.174323\n..    ...                ...            ...\n115    Q2             Crypte      15.922952\n116    Q3             Crypte  103093.342603\n117    Q1             Crypte     493.415410\n118    Q2             Crypte      15.853300\n119    Q3             Crypte  103098.227596\n\n[120 rows x 3 columns]",
      "text/html": "<div>\n<style scoped>\n    .dataframe tbody tr th:only-of-type {\n        vertical-align: middle;\n    }\n\n    .dataframe tbody tr th {\n        vertical-align: top;\n    }\n\n    .dataframe thead th {\n        text-align: right;\n    }\n</style>\n<table border=\"1\" class=\"dataframe\">\n  <thead>\n    <tr style=\"text-align: right;\">\n      <th></th>\n      <th>query</th>\n      <th>variable</th>\n      <th>time</th>\n    </tr>\n  </thead>\n  <tbody>\n    <tr>\n      <th>0</th>\n      <td>Q1</td>\n      <td>Standalone w/t DP</td>\n      <td>0.128220</td>\n    </tr>\n    <tr>\n      <th>1</th>\n      <td>Q2</td>\n      <td>Standalone w/t DP</td>\n      <td>0.177469</td>\n    </tr>\n    <tr>\n      <th>2</th>\n      <td>Q3</td>\n      <td>Standalone w/t DP</td>\n      <td>0.185183</td>\n    </tr>\n    <tr>\n      <th>3</th>\n      <td>Q1</td>\n      <td>Standalone w/t DP</td>\n      <td>0.172396</td>\n    </tr>\n    <tr>\n      <th>4</th>\n      <td>Q2</td>\n      <td>Standalone w/t DP</td>\n      <td>0.174323</td>\n    </tr>\n    <tr>\n      <th>...</th>\n      <td>...</td>\n      <td>...</td>\n      <td>...</td>\n    </tr>\n    <tr>\n      <th>115</th>\n      <td>Q2</td>\n      <td>Crypte</td>\n      <td>15.922952</td>\n    </tr>\n    <tr>\n      <th>116</th>\n      <td>Q3</td>\n      <td>Crypte</td>\n      <td>103093.342603</td>\n    </tr>\n    <tr>\n      <th>117</th>\n      <td>Q1</td>\n      <td>Crypte</td>\n      <td>493.415410</td>\n    </tr>\n    <tr>\n      <th>118</th>\n      <td>Q2</td>\n      <td>Crypte</td>\n      <td>15.853300</td>\n    </tr>\n    <tr>\n      <th>119</th>\n      <td>Q3</td>\n      <td>Crypte</td>\n      <td>103098.227596</td>\n    </tr>\n  </tbody>\n</table>\n<p>120 rows × 3 columns</p>\n</div>"
     },
     "execution_count": 31,
     "metadata": {},
     "output_type": "execute_result"
    }
   ],
   "source": [
    "df = df.melt(id_vars=\"query\", value_name=\"time\")\n",
    "df"
   ],
   "metadata": {
    "collapsed": false,
    "pycharm": {
     "name": "#%%\n"
    }
   }
  },
  {
   "cell_type": "code",
   "execution_count": 32,
   "outputs": [],
   "source": [
    "# plt.rcParams['figure.dpi'] = 300\n",
    "sns.set_theme(style=\"ticks\", palette=\"Set2\", font=\"Times New Roman\", font_scale=1.6)\n",
    "plt.rcParams[\"font.weight\"] = \"bold\"\n",
    "plt.rcParams[\"axes.labelweight\"] = \"bold\"\n",
    "# sns.set_palette(\"colorblind\")\n",
    "# sns.set(font=\"Times New Roman\")"
   ],
   "metadata": {
    "collapsed": false,
    "pycharm": {
     "name": "#%%\n"
    }
   }
  },
  {
   "cell_type": "code",
   "execution_count": 33,
   "outputs": [
    {
     "data": {
      "text/plain": "<Figure size 800x300 with 1 Axes>",
      "image/png": "[encoded data removed]"
     },
     "metadata": {},
     "output_type": "display_data"
    }
   ],
   "source": [
    "plt.rcParams[\"figure.figsize\"] = [8, 3]\n",
    "\n",
    "g = sns.barplot(data=df, x=\"variable\", y=\"time\", hue=\"query\", errorbar=\"sd\", capsize=0.1, errwidth=1.5)\n",
    "g.set_yscale(\"log\")\n",
    "_ = g.set(xlabel=None, ylabel=\"Time(s)\")\n",
    "_ = g.set_yticks([0.1, 1, 10, 100, 1000, 10000, 100000])\n",
    "_ = g.set_xticklabels([\"Standalone\\nw/t DP\", \"Standalone\\nw/ DP\", \"Data\\nEscrow\", \"Crypte\"])\n",
    "g.legend_.set_title(None)\n",
    "plt.tight_layout()\n",
    "plt.savefig(\"figures/query_time.pdf\", bbox_inches = 'tight', pad_inches = 0.05)\n",
    "plt.show()\n",
    "plt.close()"
   ],
   "metadata": {
    "collapsed": false,
    "pycharm": {
     "name": "#%%\n"
    }
   }
  },
  {
   "cell_type": "code",
   "execution_count": 12,
   "outputs": [
    {
     "data": {
      "text/plain": "      type           time\n0       DS       0.018056\n1   Crypte  665112.443979\n2       DS       0.016784\n3   Crypte  665116.565115\n4       DS       0.016934\n5   Crypte  665119.484514\n6       DS       0.016812\n7   Crypte  665119.060374\n8       DS       0.017252\n9   Crypte  665121.568491\n10      DS       0.015870\n11  Crypte  665121.221986\n12      DS       0.015643\n13  Crypte  665121.885369\n14      DS       0.016706\n15  Crypte  665121.679424\n16      DS       0.017407\n17  Crypte  665122.937994\n18      DS       0.017190\n19  Crypte  665123.015680",
      "text/html": "<div>\n<style scoped>\n    .dataframe tbody tr th:only-of-type {\n        vertical-align: middle;\n    }\n\n    .dataframe tbody tr th {\n        vertical-align: top;\n    }\n\n    .dataframe thead th {\n        text-align: right;\n    }\n</style>\n<table border=\"1\" class=\"dataframe\">\n  <thead>\n    <tr style=\"text-align: right;\">\n      <th></th>\n      <th>type</th>\n      <th>time</th>\n    </tr>\n  </thead>\n  <tbody>\n    <tr>\n      <th>0</th>\n      <td>DS</td>\n      <td>0.018056</td>\n    </tr>\n    <tr>\n      <th>1</th>\n      <td>Crypte</td>\n      <td>665112.443979</td>\n    </tr>\n    <tr>\n      <th>2</th>\n      <td>DS</td>\n      <td>0.016784</td>\n    </tr>\n    <tr>\n      <th>3</th>\n      <td>Crypte</td>\n      <td>665116.565115</td>\n    </tr>\n    <tr>\n      <th>4</th>\n      <td>DS</td>\n      <td>0.016934</td>\n    </tr>\n    <tr>\n      <th>5</th>\n      <td>Crypte</td>\n      <td>665119.484514</td>\n    </tr>\n    <tr>\n      <th>6</th>\n      <td>DS</td>\n      <td>0.016812</td>\n    </tr>\n    <tr>\n      <th>7</th>\n      <td>Crypte</td>\n      <td>665119.060374</td>\n    </tr>\n    <tr>\n      <th>8</th>\n      <td>DS</td>\n      <td>0.017252</td>\n    </tr>\n    <tr>\n      <th>9</th>\n      <td>Crypte</td>\n      <td>665121.568491</td>\n    </tr>\n    <tr>\n      <th>10</th>\n      <td>DS</td>\n      <td>0.015870</td>\n    </tr>\n    <tr>\n      <th>11</th>\n      <td>Crypte</td>\n      <td>665121.221986</td>\n    </tr>\n    <tr>\n      <th>12</th>\n      <td>DS</td>\n      <td>0.015643</td>\n    </tr>\n    <tr>\n      <th>13</th>\n      <td>Crypte</td>\n      <td>665121.885369</td>\n    </tr>\n    <tr>\n      <th>14</th>\n      <td>DS</td>\n      <td>0.016706</td>\n    </tr>\n    <tr>\n      <th>15</th>\n      <td>Crypte</td>\n      <td>665121.679424</td>\n    </tr>\n    <tr>\n      <th>16</th>\n      <td>DS</td>\n      <td>0.017407</td>\n    </tr>\n    <tr>\n      <th>17</th>\n      <td>Crypte</td>\n      <td>665122.937994</td>\n    </tr>\n    <tr>\n      <th>18</th>\n      <td>DS</td>\n      <td>0.017190</td>\n    </tr>\n    <tr>\n      <th>19</th>\n      <td>Crypte</td>\n      <td>665123.015680</td>\n    </tr>\n  </tbody>\n</table>\n</div>"
     },
     "execution_count": 12,
     "metadata": {},
     "output_type": "execute_result"
    }
   ],
   "source": [
    "data2 = []\n",
    "for i in range(10):\n",
    "    data2.append([\"DS\", encryption_time_list_ds[i] + upload_time_list_ds[i]])\n",
    "    data2.append([\"Crypte\", encryption_time_list_crypte[i] + upload_time_list_crypte[i]])\n",
    "\n",
    "df2 = pd.DataFrame(data=data2, columns=[\"type\", \"time\"])\n",
    "df2"
   ],
   "metadata": {
    "collapsed": false,
    "pycharm": {
     "name": "#%%\n"
    }
   }
  },
  {
   "cell_type": "code",
   "execution_count": 13,
   "outputs": [
    {
     "data": {
      "text/plain": "0.01686539649963379"
     },
     "execution_count": 13,
     "metadata": {},
     "output_type": "execute_result"
    }
   ],
   "source": [
    "df2[df2[\"type\"] == \"DS\"][\"time\"].mean()"
   ],
   "metadata": {
    "collapsed": false,
    "pycharm": {
     "name": "#%%\n"
    }
   }
  },
  {
   "cell_type": "code",
   "execution_count": 14,
   "outputs": [
    {
     "data": {
      "text/plain": "665119.9862926484"
     },
     "execution_count": 14,
     "metadata": {},
     "output_type": "execute_result"
    }
   ],
   "source": [
    "df2[df2[\"type\"] == \"Crypte\"][\"time\"].mean()"
   ],
   "metadata": {
    "collapsed": false,
    "pycharm": {
     "name": "#%%\n"
    }
   }
  },
  {
   "cell_type": "code",
   "execution_count": 15,
   "outputs": [
    {
     "data": {
      "text/plain": "<Figure size 800x300 with 1 Axes>",
      "image/png": "[encoded data removed]"
     },
     "metadata": {},
     "output_type": "display_data"
    }
   ],
   "source": [
    "# sns.set_theme(style=\"white\", palette=\"colorblind\", font=\"Times New Roman\", font_scale=1.5)\n",
    "# ax = df2.plot(kind='bar', stacked=True)\n",
    "ax = sns.barplot(data=df2, x=\"type\", y=\"time\", errorbar=\"sd\", capsize=0.1, errwidth=1)\n",
    "# ax.set_xticklabels(ax.get_xticklabels(), rotation = 0)\n",
    "plt.yscale(\"log\")\n",
    "_ = ax.set_yticks([0.01, 0.1, 1, 10, 100, 1000, 10000, 100000, 1000000])\n",
    "_ = ax.set(xlabel=None, ylabel=\"Time(s)\")\n",
    "plt.tight_layout()\n",
    "plt.savefig(\"figures/insertion_time.pdf\")\n",
    "plt.show()\n",
    "plt.close()"
   ],
   "metadata": {
    "collapsed": false,
    "pycharm": {
     "name": "#%%\n"
    }
   }
  },
  {
   "cell_type": "code",
   "execution_count": null,
   "outputs": [],
   "source": [],
   "metadata": {
    "collapsed": false,
    "pycharm": {
     "name": "#%%\n"
    }
   }
  },
  {
   "cell_type": "code",
   "execution_count": null,
   "outputs": [],
   "source": [],
   "metadata": {
    "collapsed": false,
    "pycharm": {
     "name": "#%%\n"
    }
   }
  }
 ],
 "metadata": {
  "kernelspec": {
   "display_name": "Python 3",
   "language": "python",
   "name": "python3"
  },
  "language_info": {
   "codemirror_mode": {
    "name": "ipython",
    "version": 2
   },
   "file_extension": ".py",
   "mimetype": "text/x-python",
   "name": "python",
   "nbconvert_exporter": "python",
   "pygments_lexer": "ipython2",
   "version": "2.7.6"
  }
 },
 "nbformat": 4,
 "nbformat_minor": 0
}
