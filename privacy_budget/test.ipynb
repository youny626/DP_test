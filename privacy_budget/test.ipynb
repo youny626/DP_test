{
 "cells": [
  {
   "cell_type": "code",
   "execution_count": 1,
   "metadata": {
    "pycharm": {
     "name": "#%%\n"
    }
   },
   "outputs": [],
   "source": [
    "import pandas as pd"
   ]
  },
  {
   "cell_type": "code",
   "execution_count": 3,
   "metadata": {
    "pycharm": {
     "name": "#%%\n"
    }
   },
   "outputs": [
    {
     "data": {
      "text/plain": "       age workclass  fnlwgt     education  education.num      marital.status  \\\n0       90         ?   77053       HS-grad              9             Widowed   \n1       82   Private  132870       HS-grad              9             Widowed   \n2       66         ?  186061  Some-college             10             Widowed   \n3       54   Private  140359       7th-8th              4            Divorced   \n4       41   Private  264663  Some-college             10           Separated   \n...    ...       ...     ...           ...            ...                 ...   \n32556   22   Private  310152  Some-college             10       Never-married   \n32557   27   Private  257302    Assoc-acdm             12  Married-civ-spouse   \n32558   40   Private  154374       HS-grad              9  Married-civ-spouse   \n32559   58   Private  151910       HS-grad              9             Widowed   \n32560   22   Private  201490       HS-grad              9       Never-married   \n\n              occupation   relationship   race     sex  capital.gain  \\\n0                      ?  Not-in-family  White  Female             0   \n1        Exec-managerial  Not-in-family  White  Female             0   \n2                      ?      Unmarried  Black  Female             0   \n3      Machine-op-inspct      Unmarried  White  Female             0   \n4         Prof-specialty      Own-child  White  Female             0   \n...                  ...            ...    ...     ...           ...   \n32556    Protective-serv  Not-in-family  White    Male             0   \n32557       Tech-support           Wife  White  Female             0   \n32558  Machine-op-inspct        Husband  White    Male             0   \n32559       Adm-clerical      Unmarried  White  Female             0   \n32560       Adm-clerical      Own-child  White    Male             0   \n\n       capital.loss  hours.per.week native.country income  \n0              4356              40  United-States  <=50K  \n1              4356              18  United-States  <=50K  \n2              4356              40  United-States  <=50K  \n3              3900              40  United-States  <=50K  \n4              3900              40  United-States  <=50K  \n...             ...             ...            ...    ...  \n32556             0              40  United-States  <=50K  \n32557             0              38  United-States  <=50K  \n32558             0              40  United-States   >50K  \n32559             0              40  United-States  <=50K  \n32560             0              20  United-States  <=50K  \n\n[32561 rows x 15 columns]",
      "text/html": "<div>\n<style scoped>\n    .dataframe tbody tr th:only-of-type {\n        vertical-align: middle;\n    }\n\n    .dataframe tbody tr th {\n        vertical-align: top;\n    }\n\n    .dataframe thead th {\n        text-align: right;\n    }\n</style>\n<table border=\"1\" class=\"dataframe\">\n  <thead>\n    <tr style=\"text-align: right;\">\n      <th></th>\n      <th>age</th>\n      <th>workclass</th>\n      <th>fnlwgt</th>\n      <th>education</th>\n      <th>education.num</th>\n      <th>marital.status</th>\n      <th>occupation</th>\n      <th>relationship</th>\n      <th>race</th>\n      <th>sex</th>\n      <th>capital.gain</th>\n      <th>capital.loss</th>\n      <th>hours.per.week</th>\n      <th>native.country</th>\n      <th>income</th>\n    </tr>\n  </thead>\n  <tbody>\n    <tr>\n      <th>0</th>\n      <td>90</td>\n      <td>?</td>\n      <td>77053</td>\n      <td>HS-grad</td>\n      <td>9</td>\n      <td>Widowed</td>\n      <td>?</td>\n      <td>Not-in-family</td>\n      <td>White</td>\n      <td>Female</td>\n      <td>0</td>\n      <td>4356</td>\n      <td>40</td>\n      <td>United-States</td>\n      <td>&lt;=50K</td>\n    </tr>\n    <tr>\n      <th>1</th>\n      <td>82</td>\n      <td>Private</td>\n      <td>132870</td>\n      <td>HS-grad</td>\n      <td>9</td>\n      <td>Widowed</td>\n      <td>Exec-managerial</td>\n      <td>Not-in-family</td>\n      <td>White</td>\n      <td>Female</td>\n      <td>0</td>\n      <td>4356</td>\n      <td>18</td>\n      <td>United-States</td>\n      <td>&lt;=50K</td>\n    </tr>\n    <tr>\n      <th>2</th>\n      <td>66</td>\n      <td>?</td>\n      <td>186061</td>\n      <td>Some-college</td>\n      <td>10</td>\n      <td>Widowed</td>\n      <td>?</td>\n      <td>Unmarried</td>\n      <td>Black</td>\n      <td>Female</td>\n      <td>0</td>\n      <td>4356</td>\n      <td>40</td>\n      <td>United-States</td>\n      <td>&lt;=50K</td>\n    </tr>\n    <tr>\n      <th>3</th>\n      <td>54</td>\n      <td>Private</td>\n      <td>140359</td>\n      <td>7th-8th</td>\n      <td>4</td>\n      <td>Divorced</td>\n      <td>Machine-op-inspct</td>\n      <td>Unmarried</td>\n      <td>White</td>\n      <td>Female</td>\n      <td>0</td>\n      <td>3900</td>\n      <td>40</td>\n      <td>United-States</td>\n      <td>&lt;=50K</td>\n    </tr>\n    <tr>\n      <th>4</th>\n      <td>41</td>\n      <td>Private</td>\n      <td>264663</td>\n      <td>Some-college</td>\n      <td>10</td>\n      <td>Separated</td>\n      <td>Prof-specialty</td>\n      <td>Own-child</td>\n      <td>White</td>\n      <td>Female</td>\n      <td>0</td>\n      <td>3900</td>\n      <td>40</td>\n      <td>United-States</td>\n      <td>&lt;=50K</td>\n    </tr>\n    <tr>\n      <th>...</th>\n      <td>...</td>\n      <td>...</td>\n      <td>...</td>\n      <td>...</td>\n      <td>...</td>\n      <td>...</td>\n      <td>...</td>\n      <td>...</td>\n      <td>...</td>\n      <td>...</td>\n      <td>...</td>\n      <td>...</td>\n      <td>...</td>\n      <td>...</td>\n      <td>...</td>\n    </tr>\n    <tr>\n      <th>32556</th>\n      <td>22</td>\n      <td>Private</td>\n      <td>310152</td>\n      <td>Some-college</td>\n      <td>10</td>\n      <td>Never-married</td>\n      <td>Protective-serv</td>\n      <td>Not-in-family</td>\n      <td>White</td>\n      <td>Male</td>\n      <td>0</td>\n      <td>0</td>\n      <td>40</td>\n      <td>United-States</td>\n      <td>&lt;=50K</td>\n    </tr>\n    <tr>\n      <th>32557</th>\n      <td>27</td>\n      <td>Private</td>\n      <td>257302</td>\n      <td>Assoc-acdm</td>\n      <td>12</td>\n      <td>Married-civ-spouse</td>\n      <td>Tech-support</td>\n      <td>Wife</td>\n      <td>White</td>\n      <td>Female</td>\n      <td>0</td>\n      <td>0</td>\n      <td>38</td>\n      <td>United-States</td>\n      <td>&lt;=50K</td>\n    </tr>\n    <tr>\n      <th>32558</th>\n      <td>40</td>\n      <td>Private</td>\n      <td>154374</td>\n      <td>HS-grad</td>\n      <td>9</td>\n      <td>Married-civ-spouse</td>\n      <td>Machine-op-inspct</td>\n      <td>Husband</td>\n      <td>White</td>\n      <td>Male</td>\n      <td>0</td>\n      <td>0</td>\n      <td>40</td>\n      <td>United-States</td>\n      <td>&gt;50K</td>\n    </tr>\n    <tr>\n      <th>32559</th>\n      <td>58</td>\n      <td>Private</td>\n      <td>151910</td>\n      <td>HS-grad</td>\n      <td>9</td>\n      <td>Widowed</td>\n      <td>Adm-clerical</td>\n      <td>Unmarried</td>\n      <td>White</td>\n      <td>Female</td>\n      <td>0</td>\n      <td>0</td>\n      <td>40</td>\n      <td>United-States</td>\n      <td>&lt;=50K</td>\n    </tr>\n    <tr>\n      <th>32560</th>\n      <td>22</td>\n      <td>Private</td>\n      <td>201490</td>\n      <td>HS-grad</td>\n      <td>9</td>\n      <td>Never-married</td>\n      <td>Adm-clerical</td>\n      <td>Own-child</td>\n      <td>White</td>\n      <td>Male</td>\n      <td>0</td>\n      <td>0</td>\n      <td>20</td>\n      <td>United-States</td>\n      <td>&lt;=50K</td>\n    </tr>\n  </tbody>\n</table>\n<p>32561 rows × 15 columns</p>\n</div>"
     },
     "execution_count": 3,
     "metadata": {},
     "output_type": "execute_result"
    }
   ],
   "source": [
    "df = pd.read_csv(\"../adult.csv\")\n",
    "df"
   ]
  },
  {
   "cell_type": "code",
   "execution_count": 3,
   "metadata": {
    "pycharm": {
     "name": "#%%\n"
    },
    "scrolled": false
   },
   "outputs": [
    {
     "name": "stdout",
     "output_type": "stream",
     "text": [
      "    age     education  education.num                race income\n",
      "0    56           9th              5               White  <=50K\n",
      "1    19       HS-grad              9               White  <=50K\n",
      "2    23  Some-college             10  Asian-Pac-Islander  <=50K\n",
      "3    37     Bachelors             13               White  <=50K\n",
      "4    49       Masters             14               White   >50K\n",
      "5    50       HS-grad              9               White   >50K\n",
      "6    59          10th              6               White  <=50K\n",
      "7    43     Bachelors             13               White  <=50K\n",
      "8    23     Bachelors             13               White  <=50K\n",
      "9    62     Bachelors             13               White   >50K\n",
      "10   60       7th-8th              4               White   >50K\n",
      "11   36     Assoc-voc             11               White   >50K\n",
      "12   66       HS-grad              9               Black  <=50K\n",
      "13   30     Bachelors             13               White  <=50K\n",
      "14   45       HS-grad              9               White   >50K\n",
      "15   17          10th              6               White  <=50K\n",
      "16   28       HS-grad              9               White  <=50K\n",
      "17   38       Masters             14               White   >50K\n",
      "18   40       HS-grad              9               White   >50K\n",
      "19   52  Some-college             10               White  <=50K\n",
      "20   61          10th              6               White  <=50K\n",
      "21   47     Doctorate             16               White  <=50K\n",
      "22   51   Prof-school             15               White  <=50K\n",
      "23   33       HS-grad              9               Other  <=50K\n",
      "24   35     Bachelors             13  Asian-Pac-Islander   >50K\n",
      "25   24       HS-grad              9               White  <=50K\n",
      "26   30       HS-grad              9               White  <=50K\n",
      "27   52   Prof-school             15               White   >50K\n",
      "28   46   Prof-school             15               White   >50K\n",
      "29   27     Bachelors             13               White  <=50K\n",
      "30   28     Bachelors             13               White  <=50K\n",
      "31   28  Some-college             10               White  <=50K\n",
      "32   58    Assoc-acdm             12               Black   >50K\n",
      "33   51       HS-grad              9               White  <=50K\n",
      "34   34       HS-grad              9               Black  <=50K\n",
      "35   37       HS-grad              9               White  <=50K\n",
      "36   37  Some-college             10               White  <=50K\n",
      "37   39       Masters             14               White   >50K\n",
      "38   29     Bachelors             13               White  <=50K\n",
      "39   28     Bachelors             13               White  <=50K\n",
      "40   52     Bachelors             13               White   >50K\n",
      "41   38       7th-8th              4               White   >50K\n",
      "42   39    Assoc-acdm             12               White   >50K\n",
      "43   31  Some-college             10  Asian-Pac-Islander  <=50K\n",
      "44   51     Bachelors             13               White   >50K\n",
      "45   33       HS-grad              9               White   >50K\n",
      "46   35       HS-grad              9               Black  <=50K\n",
      "47   52       5th-6th              3               White  <=50K\n",
      "48   58       HS-grad              9               White  <=50K\n",
      "49   27       HS-grad              9               White  <=50K\n",
      "50   33           9th              5               White  <=50K\n",
      "51   43  Some-college             10               White  <=50K\n",
      "52   41  Some-college             10               White  <=50K\n",
      "53   17          10th              6               White  <=50K\n",
      "54   35       HS-grad              9               White  <=50K\n",
      "55   48       HS-grad              9               White  <=50K\n",
      "56   58       HS-grad              9               White   >50K\n",
      "57   43       Masters             14               White   >50K\n",
      "58   42       HS-grad              9               White  <=50K\n",
      "59   19       HS-grad              9               White  <=50K\n",
      "60   38  Some-college             10               White   >50K\n",
      "61   46     Bachelors             13               White   >50K\n",
      "62   47  Some-college             10               White   >50K\n",
      "63   21    Assoc-acdm             12               White  <=50K\n",
      "64   59       7th-8th              4               White  <=50K\n",
      "65   35       HS-grad              9               White  <=50K\n",
      "66   31       HS-grad              9               White  <=50K\n",
      "67   57       HS-grad              9               White   >50K\n",
      "68   59          10th              6               White  <=50K\n",
      "69   29     Bachelors             13               White  <=50K\n",
      "70   51       HS-grad              9               White  <=50K\n",
      "71   17          10th              6               Black  <=50K\n",
      "72   44  Some-college             10               White   >50K\n",
      "73   36  Some-college             10               White  <=50K\n",
      "74   63       HS-grad              9               White  <=50K\n",
      "75   41       HS-grad              9               White  <=50K\n",
      "76   48     Bachelors             13               White  <=50K\n",
      "77   43     Bachelors             13  Asian-Pac-Islander  <=50K\n",
      "78   41       HS-grad              9               White  <=50K\n",
      "79   20    Assoc-acdm             12               White  <=50K\n",
      "80   60    Assoc-acdm             12               White   >50K\n",
      "81   49     Bachelors             13               White   >50K\n",
      "82   38     Bachelors             13               White  <=50K\n",
      "83   23       HS-grad              9               White  <=50K\n",
      "84   39  Some-college             10               White  <=50K\n",
      "85   19       HS-grad              9               White  <=50K\n",
      "86   31  Some-college             10               White  <=50K\n",
      "87   31       HS-grad              9               White  <=50K\n",
      "88   18          11th              7               White  <=50K\n",
      "89   42       HS-grad              9               White  <=50K\n",
      "90   37       HS-grad              9               White  <=50K\n",
      "91   48     Bachelors             13               White   >50K\n",
      "92   36  Some-college             10               White   >50K\n",
      "93   35       HS-grad              9               Black  <=50K\n",
      "94   32       Masters             14  Asian-Pac-Islander  <=50K\n",
      "95   32     Bachelors             13               White  <=50K\n",
      "96   43       HS-grad              9               Black  <=50K\n",
      "97   22  Some-college             10               White  <=50K\n",
      "98   27     Bachelors             13               White  <=50K\n",
      "99   37       HS-grad              9               White  <=50K\n"
     ]
    }
   ],
   "source": [
    "df = df[[\"age\", \"education\", \"education.num\", \"race\", \"income\"]]\n",
    "df = df.sample(100, random_state=0, ignore_index=True)\n",
    "with pd.option_context('display.max_rows', None, 'display.max_columns', None):  # more options can be specified also\n",
    "    print(df)"
   ]
  },
  {
   "cell_type": "markdown",
   "source": [],
   "metadata": {
    "collapsed": false,
    "pycharm": {
     "name": "#%% md\n"
    }
   }
  },
  {
   "cell_type": "code",
   "execution_count": 4,
   "metadata": {
    "pycharm": {
     "name": "#%%\n"
    }
   },
   "outputs": [
    {
     "data": {
      "text/plain": "array(['White', 'Asian-Pac-Islander', 'Black', 'Other'], dtype=object)"
     },
     "execution_count": 4,
     "metadata": {},
     "output_type": "execute_result"
    }
   ],
   "source": [
    "df[\"race\"].unique()"
   ]
  },
  {
   "cell_type": "code",
   "execution_count": 29,
   "metadata": {
    "pycharm": {
     "name": "#%%\n"
    }
   },
   "outputs": [],
   "source": [
    "df.to_csv(\"adult_100_sample.csv\")"
   ]
  },
  {
   "cell_type": "code",
   "execution_count": 9,
   "outputs": [],
   "source": [
    "df.to_html(\"adult_100_sample.html\", index=False)"
   ],
   "metadata": {
    "collapsed": false,
    "pycharm": {
     "name": "#%%\n"
    }
   }
  },
  {
   "cell_type": "code",
   "execution_count": 40,
   "outputs": [
    {
     "name": "stdout",
     "output_type": "stream",
     "text": [
      "5\n",
      "7\n",
      "1\n"
     ]
    }
   ],
   "source": [
    "import pandas as pd\n",
    "df = pd.read_csv(\"adult_100_sample.csv\")\n",
    "# print(df[\"age\"].max(), df[\"age\"].min())\n",
    "print(len(df[df.race == \"Asian-Pac-Islander\"]))\n",
    "print(len(df[df.race == \"Black\"]))\n",
    "print(len(df[df.race == \"Other\"]))"
   ],
   "metadata": {
    "collapsed": false,
    "pycharm": {
     "name": "#%%\n"
    }
   }
  },
  {
   "cell_type": "code",
   "execution_count": 42,
   "outputs": [
    {
     "name": "stdout",
     "output_type": "stream",
     "text": [
      "Asian-Pac-Islander: 0 - 5, Black: 0 - 7, Other: 0 - 1, White: 0 - 10\n",
      "Asian-Pac-Islander: 0 - 5, Black: 0 - 4, Other: 0 - 1, White: 0 - 6\n",
      "Asian-Pac-Islander: 0 - 4, Black: 0 - 3, Other: 0 - 1, White: 0 - 5\n",
      "Asian-Pac-Islander: 0 - 3, Black: 0 - 2, Other: 0 - 1, White: 0 - 4\n",
      "Asian-Pac-Islander: 0 - 3, Black: 0 - 2, Other: 0 - 1, White: 0 - 4\n",
      "Asian-Pac-Islander: 0 - 3, Black: 0 - 2, Other: 0 - 1, White: 0 - 4\n",
      "Asian-Pac-Islander: 0 - 3, Black: 0 - 2, Other: 0 - 1, White: 0 - 4\n",
      "Asian-Pac-Islander: 0 - 2, Black: 0 - 1, Other: 0 - 1, White: 1 - 3\n",
      "Asian-Pac-Islander: 0 - 2, Black: 0 - 1, Other: 0 - 1, White: 1 - 3\n",
      "Asian-Pac-Islander: 0 - 2, Black: 0 - 1, Other: 0 - 1, White: 1 - 3\n"
     ]
    }
   ],
   "source": [
    "from scipy.stats import laplace\n",
    "from math import floor, ceil\n",
    "import numpy as np\n",
    "\n",
    "sens = 1\n",
    "for eps in list(np.arange(0.5, 5.1, 0.5, dtype=float)):\n",
    "    val = laplace.ppf(q=0.99, loc=0, scale = sens/eps)\n",
    "    # print(f\"Asian-Pac-Islander: {int(3 - val)} - {int(3 + val)}, Black: 0 - {int(val)}, Other: 0 - {int(val)}, White: {int(27 - val)} - {int(27 + val)}\")\n",
    "\n",
    "    print(f\"Asian-Pac-Islander: {max(0, floor(1 - val))} - {min(5, ceil(1 + val))}, Black: 0 - {min(7, ceil(val))}, Other: 0 - {min(1, ceil(val))}, White: {max(0, floor(2 - val))} - {ceil(2 + val)}\")\n",
    "    # print(f\"{ans - val:0.2f} - {ans + val:0.2f}\")"
   ],
   "metadata": {
    "collapsed": false,
    "pycharm": {
     "name": "#%%\n"
    }
   }
  },
  {
   "cell_type": "code",
   "execution_count": 36,
   "outputs": [
    {
     "name": "stdout",
     "output_type": "stream",
     "text": [
      "1 - 16\n",
      "5 - 12\n",
      "6 - 11\n",
      "7 - 10\n",
      "7 - 10\n",
      "7 - 10\n",
      "7 - 10\n",
      "8 - 9\n",
      "8 - 9\n",
      "8 - 9\n"
     ]
    }
   ],
   "source": [
    "sens = 1\n",
    "ans = 9\n",
    "for eps in list(np.arange(0.5, 5.1, 0.5, dtype=float)):\n",
    "    val = laplace.ppf(q=0.99, loc=0, scale = sens/eps)\n",
    "    # print(f\"Asian-Pac-Islander: {int(3 - val)} - {int(3 + val)}, Black: 0 - {int(val)}, Other: 0 - {int(val)}, White: {int(27 - val)} - {int(27 + val)}\")\n",
    "\n",
    "    # print(f\"Asian-Pac-Islander: {max(0, floor(1 - val))} - {ceil(1 + val)}, Black: 0 - {ceil(val)}, Other: 0 - {ceil(val)}, White: {max(0, floor(2 - val))} - {ceil(2 + val)}\")\n",
    "    print(f\"{int(ans - val)} - {int(ans + val)}\")"
   ],
   "metadata": {
    "collapsed": false,
    "pycharm": {
     "name": "#%%\n"
    }
   }
  },
  {
   "cell_type": "code",
   "execution_count": 4,
   "outputs": [
    {
     "data": {
      "text/plain": "       age workclass  fnlwgt     education  education_num      marital_status  \\\n0       90         ?   77053       HS-grad              9             Widowed   \n1       82   Private  132870       HS-grad              9             Widowed   \n2       66         ?  186061  Some-college             10             Widowed   \n3       54   Private  140359       7th-8th              4            Divorced   \n4       41   Private  264663  Some-college             10           Separated   \n...    ...       ...     ...           ...            ...                 ...   \n32556   22   Private  310152  Some-college             10       Never-married   \n32557   27   Private  257302    Assoc-acdm             12  Married-civ-spouse   \n32558   40   Private  154374       HS-grad              9  Married-civ-spouse   \n32559   58   Private  151910       HS-grad              9             Widowed   \n32560   22   Private  201490       HS-grad              9       Never-married   \n\n              occupation   relationship   race     sex  capital_gain  \\\n0                      ?  Not-in-family  White  Female             0   \n1        Exec-managerial  Not-in-family  White  Female             0   \n2                      ?      Unmarried  Black  Female             0   \n3      Machine-op-inspct      Unmarried  White  Female             0   \n4         Prof-specialty      Own-child  White  Female             0   \n...                  ...            ...    ...     ...           ...   \n32556    Protective-serv  Not-in-family  White    Male             0   \n32557       Tech-support           Wife  White  Female             0   \n32558  Machine-op-inspct        Husband  White    Male             0   \n32559       Adm-clerical      Unmarried  White  Female             0   \n32560       Adm-clerical      Own-child  White    Male             0   \n\n       capital_loss  hours_per_week native_country income  \n0              4356              40  United-States  <=50K  \n1              4356              18  United-States  <=50K  \n2              4356              40  United-States  <=50K  \n3              3900              40  United-States  <=50K  \n4              3900              40  United-States  <=50K  \n...             ...             ...            ...    ...  \n32556             0              40  United-States  <=50K  \n32557             0              38  United-States  <=50K  \n32558             0              40  United-States   >50K  \n32559             0              40  United-States  <=50K  \n32560             0              20  United-States  <=50K  \n\n[32561 rows x 15 columns]",
      "text/html": "<div>\n<style scoped>\n    .dataframe tbody tr th:only-of-type {\n        vertical-align: middle;\n    }\n\n    .dataframe tbody tr th {\n        vertical-align: top;\n    }\n\n    .dataframe thead th {\n        text-align: right;\n    }\n</style>\n<table border=\"1\" class=\"dataframe\">\n  <thead>\n    <tr style=\"text-align: right;\">\n      <th></th>\n      <th>age</th>\n      <th>workclass</th>\n      <th>fnlwgt</th>\n      <th>education</th>\n      <th>education_num</th>\n      <th>marital_status</th>\n      <th>occupation</th>\n      <th>relationship</th>\n      <th>race</th>\n      <th>sex</th>\n      <th>capital_gain</th>\n      <th>capital_loss</th>\n      <th>hours_per_week</th>\n      <th>native_country</th>\n      <th>income</th>\n    </tr>\n  </thead>\n  <tbody>\n    <tr>\n      <th>0</th>\n      <td>90</td>\n      <td>?</td>\n      <td>77053</td>\n      <td>HS-grad</td>\n      <td>9</td>\n      <td>Widowed</td>\n      <td>?</td>\n      <td>Not-in-family</td>\n      <td>White</td>\n      <td>Female</td>\n      <td>0</td>\n      <td>4356</td>\n      <td>40</td>\n      <td>United-States</td>\n      <td>&lt;=50K</td>\n    </tr>\n    <tr>\n      <th>1</th>\n      <td>82</td>\n      <td>Private</td>\n      <td>132870</td>\n      <td>HS-grad</td>\n      <td>9</td>\n      <td>Widowed</td>\n      <td>Exec-managerial</td>\n      <td>Not-in-family</td>\n      <td>White</td>\n      <td>Female</td>\n      <td>0</td>\n      <td>4356</td>\n      <td>18</td>\n      <td>United-States</td>\n      <td>&lt;=50K</td>\n    </tr>\n    <tr>\n      <th>2</th>\n      <td>66</td>\n      <td>?</td>\n      <td>186061</td>\n      <td>Some-college</td>\n      <td>10</td>\n      <td>Widowed</td>\n      <td>?</td>\n      <td>Unmarried</td>\n      <td>Black</td>\n      <td>Female</td>\n      <td>0</td>\n      <td>4356</td>\n      <td>40</td>\n      <td>United-States</td>\n      <td>&lt;=50K</td>\n    </tr>\n    <tr>\n      <th>3</th>\n      <td>54</td>\n      <td>Private</td>\n      <td>140359</td>\n      <td>7th-8th</td>\n      <td>4</td>\n      <td>Divorced</td>\n      <td>Machine-op-inspct</td>\n      <td>Unmarried</td>\n      <td>White</td>\n      <td>Female</td>\n      <td>0</td>\n      <td>3900</td>\n      <td>40</td>\n      <td>United-States</td>\n      <td>&lt;=50K</td>\n    </tr>\n    <tr>\n      <th>4</th>\n      <td>41</td>\n      <td>Private</td>\n      <td>264663</td>\n      <td>Some-college</td>\n      <td>10</td>\n      <td>Separated</td>\n      <td>Prof-specialty</td>\n      <td>Own-child</td>\n      <td>White</td>\n      <td>Female</td>\n      <td>0</td>\n      <td>3900</td>\n      <td>40</td>\n      <td>United-States</td>\n      <td>&lt;=50K</td>\n    </tr>\n    <tr>\n      <th>...</th>\n      <td>...</td>\n      <td>...</td>\n      <td>...</td>\n      <td>...</td>\n      <td>...</td>\n      <td>...</td>\n      <td>...</td>\n      <td>...</td>\n      <td>...</td>\n      <td>...</td>\n      <td>...</td>\n      <td>...</td>\n      <td>...</td>\n      <td>...</td>\n      <td>...</td>\n    </tr>\n    <tr>\n      <th>32556</th>\n      <td>22</td>\n      <td>Private</td>\n      <td>310152</td>\n      <td>Some-college</td>\n      <td>10</td>\n      <td>Never-married</td>\n      <td>Protective-serv</td>\n      <td>Not-in-family</td>\n      <td>White</td>\n      <td>Male</td>\n      <td>0</td>\n      <td>0</td>\n      <td>40</td>\n      <td>United-States</td>\n      <td>&lt;=50K</td>\n    </tr>\n    <tr>\n      <th>32557</th>\n      <td>27</td>\n      <td>Private</td>\n      <td>257302</td>\n      <td>Assoc-acdm</td>\n      <td>12</td>\n      <td>Married-civ-spouse</td>\n      <td>Tech-support</td>\n      <td>Wife</td>\n      <td>White</td>\n      <td>Female</td>\n      <td>0</td>\n      <td>0</td>\n      <td>38</td>\n      <td>United-States</td>\n      <td>&lt;=50K</td>\n    </tr>\n    <tr>\n      <th>32558</th>\n      <td>40</td>\n      <td>Private</td>\n      <td>154374</td>\n      <td>HS-grad</td>\n      <td>9</td>\n      <td>Married-civ-spouse</td>\n      <td>Machine-op-inspct</td>\n      <td>Husband</td>\n      <td>White</td>\n      <td>Male</td>\n      <td>0</td>\n      <td>0</td>\n      <td>40</td>\n      <td>United-States</td>\n      <td>&gt;50K</td>\n    </tr>\n    <tr>\n      <th>32559</th>\n      <td>58</td>\n      <td>Private</td>\n      <td>151910</td>\n      <td>HS-grad</td>\n      <td>9</td>\n      <td>Widowed</td>\n      <td>Adm-clerical</td>\n      <td>Unmarried</td>\n      <td>White</td>\n      <td>Female</td>\n      <td>0</td>\n      <td>0</td>\n      <td>40</td>\n      <td>United-States</td>\n      <td>&lt;=50K</td>\n    </tr>\n    <tr>\n      <th>32560</th>\n      <td>22</td>\n      <td>Private</td>\n      <td>201490</td>\n      <td>HS-grad</td>\n      <td>9</td>\n      <td>Never-married</td>\n      <td>Adm-clerical</td>\n      <td>Own-child</td>\n      <td>White</td>\n      <td>Male</td>\n      <td>0</td>\n      <td>0</td>\n      <td>20</td>\n      <td>United-States</td>\n      <td>&lt;=50K</td>\n    </tr>\n  </tbody>\n</table>\n<p>32561 rows × 15 columns</p>\n</div>"
     },
     "execution_count": 4,
     "metadata": {},
     "output_type": "execute_result"
    }
   ],
   "source": [
    "df = pd.read_csv(\"../adult.csv\")\n",
    "df.columns = [name.replace(\".\", \"_\") for name in df.columns]\n",
    "df"
   ],
   "metadata": {
    "collapsed": false,
    "pycharm": {
     "name": "#%%\n"
    }
   }
  },
  {
   "cell_type": "code",
   "execution_count": 6,
   "outputs": [],
   "source": [
    "df.to_csv(\"../adult.csv\", index=False)"
   ],
   "metadata": {
    "collapsed": false,
    "pycharm": {
     "name": "#%%\n"
    }
   }
  },
  {
   "cell_type": "code",
   "execution_count": 7,
   "outputs": [
    {
     "data": {
      "text/plain": "Prof-specialty       4140\nCraft-repair         4099\nExec-managerial      4066\nAdm-clerical         3770\nSales                3650\nOther-service        3295\nMachine-op-inspct    2002\n?                    1843\nTransport-moving     1597\nHandlers-cleaners    1370\nFarming-fishing       994\nTech-support          928\nProtective-serv       649\nPriv-house-serv       149\nArmed-Forces            9\nName: occupation, dtype: int64"
     },
     "execution_count": 7,
     "metadata": {},
     "output_type": "execute_result"
    }
   ],
   "source": [
    "df[\"occupation\"].value_counts()"
   ],
   "metadata": {
    "collapsed": false,
    "pycharm": {
     "name": "#%%\n"
    }
   }
  },
  {
   "cell_type": "code",
   "execution_count": 13,
   "outputs": [
    {
     "data": {
      "text/plain": "11"
     },
     "execution_count": 13,
     "metadata": {},
     "output_type": "execute_result"
    }
   ],
   "source": [
    "len(df[df[\"capital_loss\"] > 3000])"
   ],
   "metadata": {
    "collapsed": false,
    "pycharm": {
     "name": "#%%\n"
    }
   }
  },
  {
   "cell_type": "code",
   "execution_count": 1,
   "outputs": [
    {
     "data": {
      "text/plain": "38.624"
     },
     "execution_count": 1,
     "metadata": {},
     "output_type": "execute_result"
    }
   ],
   "source": [
    "import pandas as pd\n",
    "import numpy as np\n",
    "\n",
    "df = pd.read_csv(\"../scalability/adult_1000.csv\")\n",
    "\n",
    "np.average(df[\"age\"])"
   ],
   "metadata": {
    "collapsed": false,
    "pycharm": {
     "name": "#%%\n"
    }
   }
  },
  {
   "cell_type": "code",
   "execution_count": 1,
   "outputs": [
    {
     "data": {
      "text/plain": "2.5218891757491297"
     },
     "execution_count": 1,
     "metadata": {},
     "output_type": "execute_result"
    }
   ],
   "source": [
    "from scipy.stats import laplace\n",
    "\n",
    "laplace.pdf(0.0690539679652818, scale=0.098)"
   ],
   "metadata": {
    "collapsed": false,
    "pycharm": {
     "name": "#%%\n"
    }
   }
  },
  {
   "cell_type": "code",
   "execution_count": 2,
   "outputs": [
    {
     "data": {
      "text/plain": "0.6236671342473211"
     },
     "execution_count": 2,
     "metadata": {},
     "output_type": "execute_result"
    }
   ],
   "source": [
    "laplace.pdf(39.817085464028274 - 39.611111111111114, scale=0.098)"
   ],
   "metadata": {
    "collapsed": false,
    "pycharm": {
     "name": "#%%\n"
    }
   }
  },
  {
   "cell_type": "code",
   "execution_count": 3,
   "outputs": [
    {
     "data": {
      "text/plain": "0.06905396796528152"
     },
     "execution_count": 3,
     "metadata": {},
     "output_type": "execute_result"
    }
   ],
   "source": [
    "39.817085464028274 - 39.74803149606299"
   ],
   "metadata": {
    "collapsed": false,
    "pycharm": {
     "name": "#%%\n"
    }
   }
  },
  {
   "cell_type": "code",
   "execution_count": 4,
   "outputs": [
    {
     "data": {
      "text/plain": "1.3971467852232449"
     },
     "execution_count": 4,
     "metadata": {},
     "output_type": "execute_result"
    }
   ],
   "source": [
    "import math\n",
    "math.log(laplace.pdf(0.0690539679652818, scale=0.098) / laplace.pdf(39.817085464028274 - 39.611111111111114, scale=0.098))/1.0"
   ],
   "metadata": {
    "collapsed": false,
    "pycharm": {
     "name": "#%%\n"
    }
   }
  },
  {
   "cell_type": "code",
   "execution_count": 7,
   "outputs": [
    {
     "data": {
      "text/plain": "98"
     },
     "execution_count": 7,
     "metadata": {},
     "output_type": "execute_result"
    }
   ],
   "source": [
    "csv_path = '../adult.csv'\n",
    "df = pd.read_csv(csv_path)#.head(100)\n",
    "# print(df.head())\n",
    "# df = pd.read_csv(\"../scalability/adult_1000.csv\")\n",
    "# df = pd.read_csv(\"../adult.csv\")\n",
    "# df = df[[\"age\", \"education\", \"education.num\", \"race\", \"income\"]]\n",
    "df.rename(columns={'education.num': 'education_num'}, inplace=True)\n",
    "df = df.sample(1000, random_state=0, ignore_index=True)\n",
    "\n",
    "df[\"hours_per_week\"].max() - df[\"hours_per_week\"].min()"
   ],
   "metadata": {
    "collapsed": false,
    "pycharm": {
     "name": "#%%\n"
    }
   }
  },
  {
   "cell_type": "code",
   "execution_count": 8,
   "outputs": [
    {
     "data": {
      "text/plain": "-1.397146785223245"
     },
     "execution_count": 8,
     "metadata": {},
     "output_type": "execute_result"
    }
   ],
   "source": [
    "math.log(laplace.pdf(39.817085464028274 - 39.611111111111114, scale=0.098) / laplace.pdf(0.0690539679652818, scale=0.098))/1.0"
   ],
   "metadata": {
    "collapsed": false,
    "pycharm": {
     "name": "#%%\n"
    }
   }
  },
  {
   "cell_type": "code",
   "execution_count": 101,
   "outputs": [],
   "source": [
    "f_x = 10.1\n",
    "f_x_neighbor = 12.2\n",
    "f_x_neighbor2 = 14.\n",
    "\n",
    "sens = 5"
   ],
   "metadata": {
    "collapsed": false,
    "pycharm": {
     "name": "#%%\n"
    }
   }
  },
  {
   "cell_type": "code",
   "execution_count": 102,
   "outputs": [
    {
     "name": "stdout",
     "output_type": "stream",
     "text": [
      "scale: 0.5\n",
      "0.41999999999999993\n",
      "2\n",
      "0.78\n"
     ]
    }
   ],
   "source": [
    "eps = 10.0\n",
    "scale = sens / eps\n",
    "print(\"scale: \" + str(scale))\n",
    "r = 9\n",
    "print(math.log(laplace.pdf(float(r - f_x), scale=scale) / laplace.pdf(float(r - f_x_neighbor), scale=scale)) / eps)\n",
    "print(2)\n",
    "print(math.log(laplace.pdf(float(r - f_x), scale=scale) / laplace.pdf(float(r - f_x_neighbor2), scale=scale)) / eps)"
   ],
   "metadata": {
    "collapsed": false,
    "pycharm": {
     "name": "#%%\n"
    }
   }
  },
  {
   "cell_type": "code",
   "execution_count": 82,
   "outputs": [
    {
     "data": {
      "text/plain": "0.41999999999999993"
     },
     "execution_count": 82,
     "metadata": {},
     "output_type": "execute_result"
    }
   ],
   "source": [
    "r = 10\n",
    "math.log(laplace.pdf(r - f_x, scale=scale) / laplace.pdf(r - f_x_neighbor, scale=scale)) / eps"
   ],
   "metadata": {
    "collapsed": false,
    "pycharm": {
     "name": "#%%\n"
    }
   }
  },
  {
   "cell_type": "code",
   "execution_count": 91,
   "outputs": [
    {
     "name": "stdout",
     "output_type": "stream",
     "text": [
      "scale: 0.5\n",
      "0.41999999999999993\n",
      "4.199999999999999\n"
     ]
    }
   ],
   "source": [
    "eps = 10\n",
    "scale = sens / eps\n",
    "print(\"scale: \" + str(scale))\n",
    "r = 9\n",
    "print(math.log(laplace.pdf(r - f_x, scale=scale) / laplace.pdf(r - f_x_neighbor, scale=scale)) / eps)\n",
    "print(math.log(laplace.pdf(r - f_x, scale=scale) / laplace.pdf(r - f_x_neighbor, scale=scale)))"
   ],
   "metadata": {
    "collapsed": false,
    "pycharm": {
     "name": "#%%\n"
    }
   }
  },
  {
   "cell_type": "code",
   "execution_count": 84,
   "outputs": [
    {
     "data": {
      "text/plain": "0.5"
     },
     "execution_count": 84,
     "metadata": {},
     "output_type": "execute_result"
    }
   ],
   "source": [
    "scale"
   ],
   "metadata": {
    "collapsed": false,
    "pycharm": {
     "name": "#%%\n"
    }
   }
  },
  {
   "cell_type": "code",
   "execution_count": 92,
   "outputs": [
    {
     "name": "stdout",
     "output_type": "stream",
     "text": [
      "scale: 0.5\n",
      "0.41999999999999993\n",
      "4.199999999999999\n"
     ]
    }
   ],
   "source": [
    "eps = 10\n",
    "scale = sens / eps\n",
    "print(\"scale: \" + str(scale))\n",
    "r = 7\n",
    "print(math.log(laplace.pdf(r - f_x, scale=scale) / laplace.pdf(r - f_x_neighbor, scale=scale)) / eps)\n",
    "print(math.log(laplace.pdf(r - f_x, scale=scale) / laplace.pdf(r - f_x_neighbor, scale=scale)))"
   ],
   "metadata": {
    "collapsed": false,
    "pycharm": {
     "name": "#%%\n"
    }
   }
  },
  {
   "cell_type": "code",
   "execution_count": 93,
   "outputs": [
    {
     "name": "stdout",
     "output_type": "stream",
     "text": [
      "scale: 500.0\n",
      "0.4200000000000057\n",
      "0.004200000000000057\n"
     ]
    }
   ],
   "source": [
    "eps = 0.01\n",
    "scale = sens / eps\n",
    "print(\"scale: \" + str(scale))\n",
    "r = 1\n",
    "print(math.log(laplace.pdf(r - f_x, scale=scale) / laplace.pdf(r - f_x_neighbor, scale=scale)) / eps)\n",
    "print(math.log(laplace.pdf(r - f_x, scale=scale) / laplace.pdf(r - f_x_neighbor, scale=scale)) )"
   ],
   "metadata": {
    "collapsed": false,
    "pycharm": {
     "name": "#%%\n"
    }
   }
  },
  {
   "cell_type": "code",
   "execution_count": 87,
   "outputs": [
    {
     "data": {
      "text/plain": "500.0"
     },
     "execution_count": 87,
     "metadata": {},
     "output_type": "execute_result"
    }
   ],
   "source": [
    " scale"
   ],
   "metadata": {
    "collapsed": false,
    "pycharm": {
     "name": "#%%\n"
    }
   }
  },
  {
   "cell_type": "code",
   "execution_count": 88,
   "outputs": [
    {
     "name": "stdout",
     "output_type": "stream",
     "text": [
      "scale: 0.05\n"
     ]
    },
    {
     "data": {
      "text/plain": "0.41999999999999993"
     },
     "execution_count": 88,
     "metadata": {},
     "output_type": "execute_result"
    }
   ],
   "source": [
    "eps = 100\n",
    "scale = sens / eps\n",
    "print(\"scale: \" + str(scale))\n",
    "r = 10\n",
    "math.log(laplace.pdf(r - f_x, scale=scale) / laplace.pdf(r - f_x_neighbor, scale=scale)) / eps"
   ],
   "metadata": {
    "collapsed": false,
    "pycharm": {
     "name": "#%%\n"
    }
   }
  },
  {
   "cell_type": "code",
   "execution_count": 76,
   "outputs": [
    {
     "data": {
      "text/plain": "0.05"
     },
     "execution_count": 76,
     "metadata": {},
     "output_type": "execute_result"
    }
   ],
   "source": [
    "scale"
   ],
   "metadata": {
    "collapsed": false,
    "pycharm": {
     "name": "#%%\n"
    }
   }
  },
  {
   "cell_type": "code",
   "execution_count": null,
   "outputs": [],
   "source": [],
   "metadata": {
    "collapsed": false,
    "pycharm": {
     "name": "#%%\n"
    }
   }
  }
 ],
 "metadata": {
  "kernelspec": {
   "display_name": "Python 3 (ipykernel)",
   "language": "python",
   "name": "python3"
  },
  "language_info": {
   "codemirror_mode": {
    "name": "ipython",
    "version": 3
   },
   "file_extension": ".py",
   "mimetype": "text/x-python",
   "name": "python",
   "nbconvert_exporter": "python",
   "pygments_lexer": "ipython3",
   "version": "3.9.6"
  }
 },
 "nbformat": 4,
 "nbformat_minor": 1
}